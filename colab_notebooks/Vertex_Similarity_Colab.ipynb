{
 "cells": [
  {
   "cell_type": "markdown",
   "metadata": {
    "colab_type": "text",
    "id": "RFY-bOtqoefa"
   },
   "source": [
    "# Setup:\n",
    "\n",
    "1. Use pynvml to confirm Colab allocated you a Tesla T4 GPU.\n",
    "2. Install most recent Miniconda release compatible with Google Colab's Python install  (3.6.7)\n",
    "3. Install RAPIDS libraries\n",
    "4. Copy RAPIDS .so files into current working directory, a workaround for conda/colab interactions\n",
    "5. Add the ngrok binary to expose Dask's status dashboard\n",
    "6. Update env variables so Python can find and use RAPIDS artifacts\n",
    "    - All of the above steps are automated in the next cell\n",
    "    - You should re-run this cell any time your instance re-starts\n",
    "    - May take a few minutes\n",
    "    - Long output (output display removed)\n"
   ]
  },
  {
   "cell_type": "code",
   "execution_count": 0,
   "metadata": {
    "colab": {},
    "colab_type": "code",
    "id": "sStm6cDXoWoO"
   },
   "outputs": [],
   "source": [
    "!wget -nc https://github.com/rapidsai/notebooks-extended/raw/master/utils/rapids-colab.sh\n",
    "!bash rapids-colab.sh\n",
    "\n",
    "import sys, os\n",
    "\n",
    "sys.path.append('/usr/local/lib/python3.6/site-packages/')\n",
    "os.environ['NUMBAPRO_NVVM'] = '/usr/local/cuda/nvvm/lib64/libnvvm.so'\n",
    "os.environ['NUMBAPRO_LIBDEVICE'] = '/usr/local/cuda/nvvm/libdevice/'"
   ]
  },
  {
   "cell_type": "markdown",
   "metadata": {
    "colab_type": "text",
    "id": "2BYqTKVlojuZ"
   },
   "source": [
    "# Introduction\n",
    "\n",
    "## Vertex Similarity\n",
    "----\n",
    "\n",
    "In this notebook, we will use cuGraph to compute vertex similarity using both the Jaccard Similarity and the Overlap Coefficient.  \n",
    "\n",
    "Notebook Credits\n",
    "\n",
    "    Original Author: Bradley Rees\n",
    "    Last Edit: 07/28/2019\n",
    "\n",
    "## Defining a Set\n",
    "Both Jaccard and the Overlap Coefficient operate on sets, and in a graph setting, those sets are the list of neighbor vertices. <br>\n",
    "For those that like math:  The neighbors of a vertex, _v_, is defined as the set, _U_, of vertices connected by way of an edge to vertex v, or _N(v) = {U} where v ∈ V and ∀ u ∈ U ∃ edge(v,u)∈ E_.\n",
    "\n",
    "For the rest of this introduction, set A will equate to A = N(i) and set B will quate to B = N(j).  That just make the rest of the text more readable.\n",
    "\n",
    "### Jaccard Similarity\n",
    "\n",
    "The Jaccard similarity between two sets is defined as the ratio of the volume of their intersection divided by the volume of their union. \n",
    "\n",
    "The Jaccard Similarity can then be defined as\n",
    "\n",
    "<a href=\"https://www.codecogs.com/eqnedit.php?latex=js(A,B)&space;=&space;\\frac{|A&space;\\cap&space;B|}{|A&space;\\cup&space;B&space;|&space;}&space;=&space;\\frac{|A&space;\\cap&space;B|}{&space;|A|&space;&plus;&space;|B|&space;-&space;|A&space;\\cup&space;B&space;|&space;}\" target=\"_blank\"><img src=\"https://latex.codecogs.com/gif.latex?js(A,B)&space;=&space;\\frac{|A&space;\\cap&space;B|}{|A&space;\\cup&space;B&space;|&space;}&space;=&space;\\frac{|A&space;\\cap&space;B|}{&space;|A|&space;&plus;&space;|B|&space;-&space;|A&space;\\cup&space;B&space;|&space;}\" title=\"js(A,B) = \\frac{|A \\cap B|}{|A \\cup B | } = \\frac{|A \\cap B|}{ |A| + |B| - |A \\cup B | }\" /></a>\n",
    "\n",
    "\n",
    "\n",
    "For further detail see Wikipedia - https://en.wikipedia.org/wiki/Jaccard_index\n",
    "\n",
    "To compute the Jaccard similarity between all pairs of vertices connected by an edge in cuGraph use: <br>\n",
    "__jaccard(G)__\n",
    "\n",
    "    G: A cugraph.Graph object\n",
    "\n",
    "Returns:\n",
    "\n",
    "    df: cudf.DataFrame with three names columns:\n",
    "        df[\"source\"]: The source vertex id.\n",
    "        df[\"destination\"]: The destination vertex id.\n",
    "        df[\"jaccard_coeff\"]: The jaccard coefficient computed between the source and destination vertex.\n",
    "\n",
    "<br>\n",
    "\n",
    "\n",
    "__References__\n",
    "\n",
    "[https://research.nvidia.com/publication/2017-11_Parallel-Jaccard-and](https://research.nvidia.com/publication/2017-11_Parallel-Jaccard-and)"
   ]
  },
  {
   "cell_type": "markdown",
   "metadata": {
    "colab_type": "text",
    "id": "JmTOBuL6osMt"
   },
   "source": [
    "### Overlap Coefficient\n",
    "\n",
    "The Overlap Coefficient between two sets is defined as the ratio of the volume of their intersection divided by the volume of the smaller set.\n",
    "The Overlap Coefficient can be defined as\n",
    "\n",
    "<a href=\"https://www.codecogs.com/eqnedit.php?latex=oc(A,B)&space;=&space;\\frac{|A|&space;\\cap&space;|B|}{min(|A|,&space;|B|)&space;}\" target=\"_blank\"><img src=\"https://latex.codecogs.com/gif.latex?oc(A,B)&space;=&space;\\frac{|A&space;\\cap&space;B|}{min(|A|,&space;|B|)&space;}\" title=\"oc(A,B) = \\frac{|A \\cap B|}{min(|A|, |B|) }\" /></a>\n",
    "\n",
    "For further detail see Wikipedia - https://en.wikipedia.org/wiki/Overlap_coefficient\n",
    "\n",
    "To compute the Overlap Coefficient between all pairs of vertices connected by an edge in cuGraph use: <br>\n",
    "\n",
    "__overlap(G)__\n",
    "\n",
    "    G: A cugraph.Graph object\n",
    "\n",
    "Returns:\n",
    "\n",
    "    df: cudf.DataFrame with three names columns:\n",
    "        df[\"source\"]: The source vertex id.\n",
    "        df[\"destination\"]: The destination vertex id.\n",
    "        df[\"overlap_coeff\"]: The overlap coefficient computed between the source and destination vertex.\n",
    "\n"
   ]
  },
  {
   "cell_type": "markdown",
   "metadata": {
    "colab_type": "text",
    "id": "u3vG7wGOpTZt"
   },
   "source": [
    "### Test Data\n",
    "We will be using the Zachary Karate club dataset \n",
    "*W. W. Zachary, An information flow model for conflict and fission in small groups, Journal of\n",
    "Anthropological Research 33, 452-473 (1977).*\n",
    "\n",
    "\n",
    "![Karate Club](https://raw.githubusercontent.com/rapidsai/notebooks/branch-0.8/cugraph/img/zachary_black_lines.png)\n",
    "\n",
    "This is a small graph which allows for easy visual inspection to validate results. "
   ]
  },
  {
   "cell_type": "markdown",
   "metadata": {},
   "source": [
    "### Imports"
   ]
  },
  {
   "cell_type": "code",
   "execution_count": 0,
   "metadata": {
    "colab": {},
    "colab_type": "code",
    "id": "Gr6qYcfCojV1"
   },
   "outputs": [],
   "source": [
    "import cudf\n",
    "import cugraph\n",
    "from collections import OrderedDict"
   ]
  },
  {
   "cell_type": "markdown",
   "metadata": {
    "colab_type": "text",
    "id": "3O2h5wDIpeWA"
   },
   "source": [
    "### Define some Print functions\n",
    "(the `del` are not needed since going out of scope should free memory)"
   ]
  },
  {
   "cell_type": "code",
   "execution_count": 0,
   "metadata": {
    "colab": {},
    "colab_type": "code",
    "id": "Pfvjz4O-pjl6"
   },
   "outputs": [],
   "source": [
    "# define a function for printing the top most similar vertices\n",
    "def print_most_similar_jaccard(df):\n",
    "    \n",
    "    jmax = df['jaccard_coeff'].max()\n",
    "    dm = df.query('jaccard_coeff >= @jmax')    \n",
    "    \n",
    "    #find the best\n",
    "    for i in range(len(dm)):    \n",
    "        print(\"Vertices \" + str(dm['source'][i]) + \" and \" + \n",
    "              str(dm['destination'][i]) + \" are most similar with score: \" \n",
    "              + str(dm['jaccard_coeff'][i]))\n",
    "    del jmax\n",
    "    del dm"
   ]
  },
  {
   "cell_type": "code",
   "execution_count": 0,
   "metadata": {
    "colab": {},
    "colab_type": "code",
    "id": "XDNArzgOpnqa"
   },
   "outputs": [],
   "source": [
    "# define a function for printing the top most similar vertices\n",
    "def print_most_similar_overlap(df):\n",
    "    \n",
    "    smax = df['overlap_coeff'].max()\n",
    "    dm = df.query('overlap_coeff >= @smax')      \n",
    "    \n",
    "    for i in range(len(dm)):\n",
    "        print(\"Vertices \" + str(dm['source'][i]) + \" and \" + \n",
    "          str(dm['destination'][i]) + \" are most similar with score: \" \n",
    "          + str(dm['overlap_coeff'][i]))\n",
    "        \n",
    "    del smax\n",
    "    del dm"
   ]
  },
  {
   "cell_type": "code",
   "execution_count": 0,
   "metadata": {
    "colab": {},
    "colab_type": "code",
    "id": "MM2lnajPppYH"
   },
   "outputs": [],
   "source": [
    "# define a function for printing jaccard similar vertices based on a threshold\n",
    "def print_jaccard_threshold(_d, limit):\n",
    "    \n",
    "    filtered = _d.query('jaccard_coeff > @limit')\n",
    "    \n",
    "    for i in range(len(filtered)):\n",
    "        print(\"Vertices \" + str(filtered['source'][i]) + \" and \" + \n",
    "            str(filtered['destination'][i]) + \" are similar with score: \" + \n",
    "            str(filtered['jaccard_coeff'][i]))"
   ]
  },
  {
   "cell_type": "code",
   "execution_count": 0,
   "metadata": {
    "colab": {},
    "colab_type": "code",
    "id": "1TwPbQ9wpq17"
   },
   "outputs": [],
   "source": [
    "# define a function for printing similar vertices based on a threshold\n",
    "def print_overlap_threshold(_d, limit):\n",
    "    \n",
    "    filtered = _d.query('overlap_coeff > @limit')\n",
    "    \n",
    "    for i in range(len(filtered)):\n",
    "        if filtered['source'][i] != filtered['destination'][i] :\n",
    "            print(\"Vertices \" + str(filtered['source'][i]) + \" and \" + \n",
    "                str(filtered['destination'][i]) + \" are similar with score: \" + \n",
    "                str(filtered['overlap_coeff'][i]))"
   ]
  },
  {
   "cell_type": "markdown",
   "metadata": {
    "colab_type": "text",
    "id": "hNmRlrhbpuVd"
   },
   "source": [
    "### Read the CSV datafile using cuDF\n",
    "data file is actually _tab_ separated, so we need to set the delimiter"
   ]
  },
  {
   "cell_type": "code",
   "execution_count": 9,
   "metadata": {
    "colab": {
     "base_uri": "https://localhost:8080/",
     "height": 222
    },
    "colab_type": "code",
    "id": "NyzkKvM4psZS",
    "outputId": "6b227374-ea80-451b-aeab-0fd24748461e"
   },
   "outputs": [
    {
     "name": "stdout",
     "output_type": "stream",
     "text": [
      "--2019-07-28 20:07:57--  https://raw.githubusercontent.com/rapidsai/notebooks/branch-0.8/cugraph/data/karate-data.csv\n",
      "Resolving raw.githubusercontent.com (raw.githubusercontent.com)... 151.101.0.133, 151.101.64.133, 151.101.128.133, ...\n",
      "Connecting to raw.githubusercontent.com (raw.githubusercontent.com)|151.101.0.133|:443... connected.\n",
      "HTTP request sent, awaiting response... 200 OK\n",
      "Length: 814 [text/plain]\n",
      "Saving to: ‘karate-data.csv.1’\n",
      "\n",
      "\r",
      "karate-data.csv.1     0%[                    ]       0  --.-KB/s               \r",
      "karate-data.csv.1   100%[===================>]     814  --.-KB/s    in 0s      \n",
      "\n",
      "2019-07-28 20:07:58 (202 MB/s) - ‘karate-data.csv.1’ saved [814/814]\n",
      "\n"
     ]
    }
   ],
   "source": [
    "# Save test file\n",
    "!wget https://raw.githubusercontent.com/rapidsai/notebooks/branch-0.8/cugraph/data/karate-data.csv\n",
    "datafile='karate-data.csv'\n",
    "\n",
    "# define the column names\n",
    "cols = [\"src\", \"dst\"]\n",
    "\n",
    "# define the column data types\n",
    "dtypes = OrderedDict([\n",
    "        (\"src\", \"int32\"), \n",
    "        (\"dst\", \"int32\")\n",
    "        ])\n",
    "\n",
    "gdf = cudf.read_csv(datafile, names=cols, delimiter='\\t', dtype=list(dtypes.values()) )"
   ]
  },
  {
   "cell_type": "code",
   "execution_count": 10,
   "metadata": {
    "colab": {
     "base_uri": "https://localhost:8080/",
     "height": 34
    },
    "colab_type": "code",
    "id": "KVMw4IpvpyKi",
    "outputId": "df7f2053-c8e9-423d-9922-39bc957eb9c4"
   },
   "outputs": [
    {
     "data": {
      "text/plain": [
       "<cudf.DataFrame ncols=2 nrows=156 >"
      ]
     },
     "execution_count": 10,
     "metadata": {
      "tags": []
     },
     "output_type": "execute_result"
    }
   ],
   "source": [
    "# Let's look at the DataFrame. There should be two columns and 156 records\n",
    "gdf"
   ]
  },
  {
   "cell_type": "code",
   "execution_count": 11,
   "metadata": {
    "colab": {
     "base_uri": "https://localhost:8080/",
     "height": 195
    },
    "colab_type": "code",
    "id": "thztLagkp1P9",
    "outputId": "560efb0b-5a5e-46c5-d983-f5e1e7e36d54"
   },
   "outputs": [
    {
     "data": {
      "text/html": [
       "<div>\n",
       "<style scoped>\n",
       "    .dataframe tbody tr th:only-of-type {\n",
       "        vertical-align: middle;\n",
       "    }\n",
       "\n",
       "    .dataframe tbody tr th {\n",
       "        vertical-align: top;\n",
       "    }\n",
       "\n",
       "    .dataframe thead th {\n",
       "        text-align: right;\n",
       "    }\n",
       "</style>\n",
       "<table border=\"1\" class=\"dataframe\">\n",
       "  <thead>\n",
       "    <tr style=\"text-align: right;\">\n",
       "      <th></th>\n",
       "      <th>src</th>\n",
       "      <th>dst</th>\n",
       "    </tr>\n",
       "  </thead>\n",
       "  <tbody>\n",
       "    <tr>\n",
       "      <th>0</th>\n",
       "      <td>1</td>\n",
       "      <td>2</td>\n",
       "    </tr>\n",
       "    <tr>\n",
       "      <th>1</th>\n",
       "      <td>1</td>\n",
       "      <td>3</td>\n",
       "    </tr>\n",
       "    <tr>\n",
       "      <th>2</th>\n",
       "      <td>1</td>\n",
       "      <td>4</td>\n",
       "    </tr>\n",
       "    <tr>\n",
       "      <th>3</th>\n",
       "      <td>1</td>\n",
       "      <td>5</td>\n",
       "    </tr>\n",
       "    <tr>\n",
       "      <th>4</th>\n",
       "      <td>1</td>\n",
       "      <td>6</td>\n",
       "    </tr>\n",
       "  </tbody>\n",
       "</table>\n",
       "</div>"
      ],
      "text/plain": [
       "   src  dst\n",
       "0    1    2\n",
       "1    1    3\n",
       "2    1    4\n",
       "3    1    5\n",
       "4    1    6"
      ]
     },
     "execution_count": 11,
     "metadata": {
      "tags": []
     },
     "output_type": "execute_result"
    }
   ],
   "source": [
    "# Look at the first few data records - the output should be two colums src and dst\n",
    "gdf.head().to_pandas()"
   ]
  },
  {
   "cell_type": "markdown",
   "metadata": {
    "colab_type": "text",
    "id": "5VZxPjR8p3j1"
   },
   "source": [
    "### Create a Graph"
   ]
  },
  {
   "cell_type": "code",
   "execution_count": 0,
   "metadata": {
    "colab": {},
    "colab_type": "code",
    "id": "G92Fccd0p23i"
   },
   "outputs": [],
   "source": [
    "# create a Graph \n",
    "G = cugraph.Graph()\n",
    "G.add_edge_list(gdf[\"src\"], gdf[\"dst\"])"
   ]
  },
  {
   "cell_type": "code",
   "execution_count": 13,
   "metadata": {
    "colab": {
     "base_uri": "https://localhost:8080/",
     "height": 34
    },
    "colab_type": "code",
    "id": "jKr9oI8tp51Y",
    "outputId": "41eedec5-dfd0-4fd7-c5e8-99a1ce039cd4"
   },
   "outputs": [
    {
     "data": {
      "text/plain": [
       "<cudf.DataFrame ncols=2 nrows=35 >"
      ]
     },
     "execution_count": 13,
     "metadata": {
      "tags": []
     },
     "output_type": "execute_result"
    }
   ],
   "source": [
    "G.degree()"
   ]
  },
  {
   "cell_type": "code",
   "execution_count": 14,
   "metadata": {
    "colab": {
     "base_uri": "https://localhost:8080/",
     "height": 34
    },
    "colab_type": "code",
    "id": "gxaMWYKCp9MC",
    "outputId": "4ce485a2-00fd-4b08-9601-f99c5072ca66"
   },
   "outputs": [
    {
     "data": {
      "text/plain": [
       "35"
      ]
     },
     "execution_count": 14,
     "metadata": {
      "tags": []
     },
     "output_type": "execute_result"
    }
   ],
   "source": [
    "# How many vertices are in the graph?  Remember that Graph is zero based\n",
    "G.number_of_vertices()"
   ]
  },
  {
   "cell_type": "markdown",
   "metadata": {
    "colab_type": "text",
    "id": "QTUXt4cBp_Na"
   },
   "source": [
    "_The test graph has only 34 vertices, so why is the Graph listing 35?_\n",
    "\n",
    "As mentioned above, cuGraph vertex numbering is zero-based, meaning that the first vertex ID starts at zero.  The test dataset is 1-based.  Because of that, the Graph object adds an extra isolated vertex with an ID of zero.  Hence the difference in vertex count.  \n",
    "We are working on a renumbering feature to address this issue. "
   ]
  },
  {
   "cell_type": "markdown",
   "metadata": {
    "colab_type": "text",
    "id": "E-LiVrfaqEBx"
   },
   "source": [
    "### Jaccard"
   ]
  },
  {
   "cell_type": "code",
   "execution_count": 15,
   "metadata": {
    "colab": {
     "base_uri": "https://localhost:8080/",
     "height": 50
    },
    "colab_type": "code",
    "id": "7h0N21uIqCqm",
    "outputId": "5bc3f8ef-94fe-4559-c588-6ee52d0c1e69"
   },
   "outputs": [
    {
     "name": "stdout",
     "output_type": "stream",
     "text": [
      "CPU times: user 3.17 ms, sys: 337 µs, total: 3.5 ms\n",
      "Wall time: 6.29 ms\n"
     ]
    }
   ],
   "source": [
    "# Call cugraph.nvJaccard \n",
    "%time df = cugraph.jaccard(G)"
   ]
  },
  {
   "cell_type": "markdown",
   "metadata": {
    "colab_type": "text",
    "id": "2RoH7icVqHEE"
   },
   "source": [
    "The Most similar should be 33 and 34. Vertex 33 has 12 neighbors, vertex 34 has 17 neighbors. They share 10 neighbors in common:  \n",
    "jaccard=10/(10+(12−10)+(17−10))=10/19=0.526"
   ]
  },
  {
   "cell_type": "code",
   "execution_count": 16,
   "metadata": {
    "colab": {
     "base_uri": "https://localhost:8080/",
     "height": 50
    },
    "colab_type": "code",
    "id": "rm4DzDARqJle",
    "outputId": "005c3492-8e42-4364-dd33-1bf60840930d"
   },
   "outputs": [
    {
     "name": "stdout",
     "output_type": "stream",
     "text": [
      "Vertices 33 and 34 are most similar with score: 0.5263158\n",
      "Vertices 34 and 33 are most similar with score: 0.5263158\n"
     ]
    }
   ],
   "source": [
    "print_most_similar_jaccard(df)"
   ]
  },
  {
   "cell_type": "code",
   "execution_count": 17,
   "metadata": {
    "colab": {
     "base_uri": "https://localhost:8080/",
     "height": 84
    },
    "colab_type": "code",
    "id": "So_OFPr8qSXk",
    "outputId": "40690864-40ab-41c4-8fc1-8ad4206a21d5"
   },
   "outputs": [
    {
     "name": "stdout",
     "output_type": "stream",
     "text": [
      "Vertices 4 and 8 are similar with score: 0.42857143\n",
      "Vertices 8 and 4 are similar with score: 0.42857143\n",
      "Vertices 33 and 34 are similar with score: 0.5263158\n",
      "Vertices 34 and 33 are similar with score: 0.5263158\n"
     ]
    }
   ],
   "source": [
    "### let's look at all similarities over a threshold\n",
    "print_jaccard_threshold(df, 0.4)"
   ]
  },
  {
   "cell_type": "code",
   "execution_count": 0,
   "metadata": {
    "colab": {},
    "colab_type": "code",
    "id": "hdIDHZ0DqTb-"
   },
   "outputs": [],
   "source": [
    "# Since it is a small graph we can print all scores.\n",
    "# Notice that only connected vertices are computed\n",
    "\n",
    "# let's sort the data first.  Please note that you may get a warning.  Just ignore it.  \n",
    "## It is just converted into a dataframe so that we could do this function call.  \n",
    "## If we were going to actually do further work on it, we would leave it as it was :)\n",
    "\n",
    "g = df.groupby(['jaccard_coeff'], method='cudf', as_index=False)\n",
    "df_s = g.as_df()\n"
   ]
  },
  {
   "cell_type": "code",
   "execution_count": 19,
   "metadata": {
    "colab": {
     "base_uri": "https://localhost:8080/",
     "height": 1000
    },
    "colab_type": "code",
    "id": "9OFFKoLGqVtY",
    "outputId": "61da08f3-59c5-4383-fee9-cba677e55897"
   },
   "outputs": [
    {
     "name": "stdout",
     "output_type": "stream",
     "text": [
      "Vertices 3 and 33 are similar with score: 0.04761905\n",
      "Vertices 33 and 3 are similar with score: 0.04761905\n",
      "Vertices 1 and 9 are similar with score: 0.05\n",
      "Vertices 9 and 1 are similar with score: 0.05\n",
      "Vertices 28 and 34 are similar with score: 0.05\n",
      "Vertices 34 and 28 are similar with score: 0.05\n",
      "Vertices 29 and 34 are similar with score: 0.05263158\n",
      "Vertices 34 and 29 are similar with score: 0.05263158\n",
      "Vertices 1 and 20 are similar with score: 0.055555556\n",
      "Vertices 15 and 34 are similar with score: 0.055555556\n",
      "Vertices 16 and 34 are similar with score: 0.055555556\n",
      "Vertices 19 and 34 are similar with score: 0.055555556\n",
      "Vertices 20 and 1 are similar with score: 0.055555556\n",
      "Vertices 21 and 34 are similar with score: 0.055555556\n",
      "Vertices 23 and 34 are similar with score: 0.055555556\n",
      "Vertices 27 and 34 are similar with score: 0.055555556\n",
      "Vertices 34 and 15 are similar with score: 0.055555556\n",
      "Vertices 34 and 16 are similar with score: 0.055555556\n",
      "Vertices 34 and 19 are similar with score: 0.055555556\n",
      "Vertices 34 and 21 are similar with score: 0.055555556\n",
      "Vertices 34 and 23 are similar with score: 0.055555556\n",
      "Vertices 34 and 27 are similar with score: 0.055555556\n",
      "Vertices 1 and 13 are similar with score: 0.05882353\n",
      "Vertices 1 and 18 are similar with score: 0.05882353\n",
      "Vertices 1 and 22 are similar with score: 0.05882353\n",
      "Vertices 13 and 1 are similar with score: 0.05882353\n",
      "Vertices 18 and 1 are similar with score: 0.05882353\n",
      "Vertices 22 and 1 are similar with score: 0.05882353\n",
      "Vertices 32 and 33 are similar with score: 0.05882353\n",
      "Vertices 33 and 32 are similar with score: 0.05882353\n",
      "Vertices 15 and 33 are similar with score: 0.07692308\n",
      "Vertices 16 and 33 are similar with score: 0.07692308\n",
      "Vertices 19 and 33 are similar with score: 0.07692308\n",
      "Vertices 21 and 33 are similar with score: 0.07692308\n",
      "Vertices 23 and 33 are similar with score: 0.07692308\n",
      "Vertices 33 and 15 are similar with score: 0.07692308\n",
      "Vertices 33 and 16 are similar with score: 0.07692308\n",
      "Vertices 33 and 19 are similar with score: 0.07692308\n",
      "Vertices 33 and 21 are similar with score: 0.07692308\n",
      "Vertices 33 and 23 are similar with score: 0.07692308\n",
      "Vertices 2 and 20 are similar with score: 0.09090909\n",
      "Vertices 20 and 2 are similar with score: 0.09090909\n",
      "Vertices 32 and 34 are similar with score: 0.0952381\n",
      "Vertices 34 and 32 are similar with score: 0.0952381\n",
      "Vertices 2 and 18 are similar with score: 0.1\n",
      "Vertices 2 and 22 are similar with score: 0.1\n",
      "Vertices 9 and 34 are similar with score: 0.1\n",
      "Vertices 18 and 2 are similar with score: 0.1\n",
      "Vertices 22 and 2 are similar with score: 0.1\n",
      "Vertices 34 and 9 are similar with score: 0.1\n",
      "Vertices 31 and 34 are similar with score: 0.10526316\n",
      "Vertices 34 and 31 are similar with score: 0.10526316\n",
      "Vertices 1 and 6 are similar with score: 0.11111111\n",
      "Vertices 1 and 7 are similar with score: 0.11111111\n",
      "Vertices 6 and 1 are similar with score: 0.11111111\n",
      "Vertices 7 and 1 are similar with score: 0.11111111\n",
      "Vertices 1 and 5 are similar with score: 0.11764706\n",
      "Vertices 1 and 11 are similar with score: 0.11764706\n",
      "Vertices 5 and 1 are similar with score: 0.11764706\n",
      "Vertices 11 and 1 are similar with score: 0.11764706\n",
      "Vertices 24 and 28 are similar with score: 0.125\n",
      "Vertices 25 and 32 are similar with score: 0.125\n",
      "Vertices 26 and 32 are similar with score: 0.125\n",
      "Vertices 28 and 24 are similar with score: 0.125\n",
      "Vertices 29 and 32 are similar with score: 0.125\n",
      "Vertices 32 and 25 are similar with score: 0.125\n",
      "Vertices 32 and 26 are similar with score: 0.125\n",
      "Vertices 32 and 29 are similar with score: 0.125\n",
      "Vertices 24 and 33 are similar with score: 0.13333334\n",
      "Vertices 33 and 24 are similar with score: 0.13333334\n",
      "Vertices 4 and 13 are similar with score: 0.14285715\n",
      "Vertices 13 and 4 are similar with score: 0.14285715\n",
      "Vertices 30 and 33 are similar with score: 0.14285715\n",
      "Vertices 31 and 33 are similar with score: 0.14285715\n",
      "Vertices 33 and 30 are similar with score: 0.14285715\n",
      "Vertices 33 and 31 are similar with score: 0.14285715\n",
      "Vertices 3 and 9 are similar with score: 0.15384616\n",
      "Vertices 9 and 3 are similar with score: 0.15384616\n",
      "Vertices 24 and 34 are similar with score: 0.15789473\n",
      "Vertices 34 and 24 are similar with score: 0.15789473\n",
      "Vertices 1 and 14 are similar with score: 0.16666667\n",
      "Vertices 5 and 7 are similar with score: 0.16666667\n",
      "Vertices 6 and 11 are similar with score: 0.16666667\n",
      "Vertices 7 and 5 are similar with score: 0.16666667\n",
      "Vertices 11 and 6 are similar with score: 0.16666667\n",
      "Vertices 14 and 1 are similar with score: 0.16666667\n",
      "Vertices 30 and 34 are similar with score: 0.16666667\n",
      "Vertices 34 and 30 are similar with score: 0.16666667\n",
      "Vertices 1 and 8 are similar with score: 0.1764706\n",
      "Vertices 8 and 1 are similar with score: 0.1764706\n",
      "Vertices 5 and 11 are similar with score: 0.2\n",
      "Vertices 6 and 17 are similar with score: 0.2\n",
      "Vertices 7 and 17 are similar with score: 0.2\n",
      "Vertices 11 and 5 are similar with score: 0.2\n",
      "Vertices 17 and 6 are similar with score: 0.2\n",
      "Vertices 17 and 7 are similar with score: 0.2\n",
      "Vertices 25 and 26 are similar with score: 0.2\n",
      "Vertices 26 and 25 are similar with score: 0.2\n",
      "Vertices 27 and 30 are similar with score: 0.2\n",
      "Vertices 30 and 27 are similar with score: 0.2\n",
      "Vertices 9 and 33 are similar with score: 0.21428572\n",
      "Vertices 33 and 9 are similar with score: 0.21428572\n",
      "Vertices 1 and 3 are similar with score: 0.23809524\n",
      "Vertices 3 and 1 are similar with score: 0.23809524\n",
      "Vertices 3 and 14 are similar with score: 0.25\n",
      "Vertices 14 and 3 are similar with score: 0.25\n",
      "Vertices 2 and 3 are similar with score: 0.26666668\n",
      "Vertices 3 and 2 are similar with score: 0.26666668\n",
      "Vertices 2 and 14 are similar with score: 0.27272728\n",
      "Vertices 3 and 8 are similar with score: 0.27272728\n",
      "Vertices 8 and 3 are similar with score: 0.27272728\n",
      "Vertices 14 and 2 are similar with score: 0.27272728\n",
      "Vertices 9 and 31 are similar with score: 0.2857143\n",
      "Vertices 24 and 30 are similar with score: 0.2857143\n",
      "Vertices 30 and 24 are similar with score: 0.2857143\n",
      "Vertices 31 and 9 are similar with score: 0.2857143\n",
      "Vertices 1 and 4 are similar with score: 0.29411766\n",
      "Vertices 4 and 1 are similar with score: 0.29411766\n",
      "Vertices 2 and 8 are similar with score: 0.3\n",
      "Vertices 8 and 2 are similar with score: 0.3\n",
      "Vertices 3 and 4 are similar with score: 0.33333334\n",
      "Vertices 4 and 3 are similar with score: 0.33333334\n",
      "Vertices 6 and 7 are similar with score: 0.33333334\n",
      "Vertices 7 and 6 are similar with score: 0.33333334\n",
      "Vertices 2 and 4 are similar with score: 0.36363637\n",
      "Vertices 4 and 2 are similar with score: 0.36363637\n",
      "Vertices 4 and 14 are similar with score: 0.375\n",
      "Vertices 14 and 4 are similar with score: 0.375\n",
      "Vertices 1 and 2 are similar with score: 0.3888889\n",
      "Vertices 2 and 1 are similar with score: 0.3888889\n",
      "Vertices 4 and 8 are similar with score: 0.42857143\n",
      "Vertices 8 and 4 are similar with score: 0.42857143\n",
      "Vertices 33 and 34 are similar with score: 0.5263158\n",
      "Vertices 34 and 33 are similar with score: 0.5263158\n"
     ]
    }
   ],
   "source": [
    "# The groupby as_df function returns a tuple where the first item is the dataframe\n",
    "print_jaccard_threshold(df_s[0], 0.0)"
   ]
  },
  {
   "cell_type": "markdown",
   "metadata": {
    "colab_type": "text",
    "id": "Hq9lPc5jqWVL"
   },
   "source": [
    "### Overlap Coefficient"
   ]
  },
  {
   "cell_type": "code",
   "execution_count": 0,
   "metadata": {
    "colab": {},
    "colab_type": "code",
    "id": "1_IrOUokqXqK"
   },
   "outputs": [],
   "source": [
    "# Call cugraph.nvJaccard \n",
    "do = cugraph.overlap(G)"
   ]
  },
  {
   "cell_type": "code",
   "execution_count": 21,
   "metadata": {
    "colab": {
     "base_uri": "https://localhost:8080/",
     "height": 84
    },
    "colab_type": "code",
    "id": "Ep_nzMq4qYxN",
    "outputId": "cff68baa-3e8a-48fd-b3ae-f92b872bcc56"
   },
   "outputs": [
    {
     "name": "stdout",
     "output_type": "stream",
     "text": [
      "Vertices 1 and 4 are most similar with score: 0.8333333\n",
      "Vertices 4 and 1 are most similar with score: 0.8333333\n",
      "Vertices 33 and 34 are most similar with score: 0.8333333\n",
      "Vertices 34 and 33 are most similar with score: 0.8333333\n"
     ]
    }
   ],
   "source": [
    "print_most_similar_overlap(do)"
   ]
  },
  {
   "cell_type": "markdown",
   "metadata": {
    "colab_type": "text",
    "id": "uII2wU6mqZse"
   },
   "source": [
    "### Expanding vertex pairs for similarity scoring"
   ]
  },
  {
   "cell_type": "code",
   "execution_count": 0,
   "metadata": {
    "colab": {},
    "colab_type": "code",
    "id": "21kxMuB1qcUn"
   },
   "outputs": [],
   "source": [
    "# get all two-hop vertex pairs\n",
    "p = G.get_two_hop_neighbors()"
   ]
  },
  {
   "cell_type": "code",
   "execution_count": 0,
   "metadata": {
    "colab": {},
    "colab_type": "code",
    "id": "4t6M1ejFqeK8"
   },
   "outputs": [],
   "source": [
    "# Let's look at the Jaccard score\n",
    "j2 = cugraph.jaccard(G, first=p['first'], second=p['second'])"
   ]
  },
  {
   "cell_type": "code",
   "execution_count": 24,
   "metadata": {
    "colab": {
     "base_uri": "https://localhost:8080/",
     "height": 386
    },
    "colab_type": "code",
    "id": "2g6XhwJtqfa5",
    "outputId": "e82eb590-ed05-4a20-89c9-fc0478de25f8"
   },
   "outputs": [
    {
     "name": "stdout",
     "output_type": "stream",
     "text": [
      "Vertices 15 and 16 are most similar with score: 1.0\n",
      "Vertices 15 and 19 are most similar with score: 1.0\n",
      "Vertices 15 and 21 are most similar with score: 1.0\n",
      "Vertices 15 and 23 are most similar with score: 1.0\n",
      "Vertices 16 and 15 are most similar with score: 1.0\n",
      "Vertices 16 and 19 are most similar with score: 1.0\n",
      "Vertices 16 and 21 are most similar with score: 1.0\n",
      "Vertices 16 and 23 are most similar with score: 1.0\n",
      "Vertices 18 and 22 are most similar with score: 1.0\n",
      "Vertices 19 and 15 are most similar with score: 1.0\n",
      "Vertices 19 and 16 are most similar with score: 1.0\n",
      "Vertices 19 and 21 are most similar with score: 1.0\n",
      "Vertices 19 and 23 are most similar with score: 1.0\n",
      "Vertices 21 and 15 are most similar with score: 1.0\n",
      "Vertices 21 and 16 are most similar with score: 1.0\n",
      "Vertices 21 and 19 are most similar with score: 1.0\n",
      "Vertices 21 and 23 are most similar with score: 1.0\n",
      "Vertices 22 and 18 are most similar with score: 1.0\n",
      "Vertices 23 and 15 are most similar with score: 1.0\n",
      "Vertices 23 and 16 are most similar with score: 1.0\n",
      "Vertices 23 and 19 are most similar with score: 1.0\n",
      "Vertices 23 and 21 are most similar with score: 1.0\n"
     ]
    }
   ],
   "source": [
    "print_most_similar_jaccard(j2)"
   ]
  },
  {
   "cell_type": "markdown",
   "metadata": {
    "colab_type": "text",
    "id": "xKwtaXILqhWi"
   },
   "source": [
    "notice that there are a lot of very similar vertices. For example vertices 15 and 16 share their only two neighbors in common."
   ]
  },
  {
   "cell_type": "code",
   "execution_count": 0,
   "metadata": {
    "colab": {},
    "colab_type": "code",
    "id": "a90AS0kUqinp"
   },
   "outputs": [],
   "source": [
    "j2o = cugraph.overlap(G, first=p['first'], second=p['second'])"
   ]
  },
  {
   "cell_type": "code",
   "execution_count": 26,
   "metadata": {
    "colab": {
     "base_uri": "https://localhost:8080/",
     "height": 1000
    },
    "colab_type": "code",
    "id": "V_XydJWLqjoa",
    "outputId": "60156a60-1bbe-404b-90bf-d9c4d55e56f0"
   },
   "outputs": [
    {
     "name": "stdout",
     "output_type": "stream",
     "text": [
      "Vertices 1 and 17 are most similar with score: 1.0\n",
      "Vertices 2 and 12 are most similar with score: 1.0\n",
      "Vertices 2 and 13 are most similar with score: 1.0\n",
      "Vertices 3 and 12 are most similar with score: 1.0\n",
      "Vertices 3 and 13 are most similar with score: 1.0\n",
      "Vertices 3 and 18 are most similar with score: 1.0\n",
      "Vertices 3 and 22 are most similar with score: 1.0\n",
      "Vertices 4 and 12 are most similar with score: 1.0\n",
      "Vertices 4 and 18 are most similar with score: 1.0\n",
      "Vertices 4 and 22 are most similar with score: 1.0\n",
      "Vertices 5 and 6 are most similar with score: 1.0\n",
      "Vertices 5 and 12 are most similar with score: 1.0\n",
      "Vertices 6 and 5 are most similar with score: 1.0\n",
      "Vertices 6 and 12 are most similar with score: 1.0\n",
      "Vertices 7 and 11 are most similar with score: 1.0\n",
      "Vertices 7 and 12 are most similar with score: 1.0\n",
      "Vertices 8 and 12 are most similar with score: 1.0\n",
      "Vertices 8 and 13 are most similar with score: 1.0\n",
      "Vertices 8 and 14 are most similar with score: 1.0\n",
      "Vertices 8 and 18 are most similar with score: 1.0\n",
      "Vertices 8 and 22 are most similar with score: 1.0\n",
      "Vertices 9 and 10 are most similar with score: 1.0\n",
      "Vertices 9 and 12 are most similar with score: 1.0\n",
      "Vertices 9 and 15 are most similar with score: 1.0\n",
      "Vertices 9 and 16 are most similar with score: 1.0\n",
      "Vertices 9 and 19 are most similar with score: 1.0\n",
      "Vertices 9 and 21 are most similar with score: 1.0\n",
      "Vertices 9 and 23 are most similar with score: 1.0\n",
      "Vertices 10 and 9 are most similar with score: 1.0\n",
      "Vertices 10 and 14 are most similar with score: 1.0\n",
      "Vertices 10 and 28 are most similar with score: 1.0\n",
      "Vertices 10 and 29 are most similar with score: 1.0\n",
      "Vertices 10 and 33 are most similar with score: 1.0\n",
      "Vertices 11 and 7 are most similar with score: 1.0\n",
      "Vertices 11 and 12 are most similar with score: 1.0\n",
      "Vertices 12 and 2 are most similar with score: 1.0\n",
      "Vertices 12 and 3 are most similar with score: 1.0\n",
      "Vertices 12 and 4 are most similar with score: 1.0\n",
      "Vertices 12 and 5 are most similar with score: 1.0\n",
      "Vertices 12 and 6 are most similar with score: 1.0\n",
      "Vertices 12 and 7 are most similar with score: 1.0\n",
      "Vertices 12 and 8 are most similar with score: 1.0\n",
      "Vertices 12 and 9 are most similar with score: 1.0\n",
      "Vertices 12 and 11 are most similar with score: 1.0\n",
      "Vertices 12 and 13 are most similar with score: 1.0\n",
      "Vertices 12 and 14 are most similar with score: 1.0\n",
      "Vertices 12 and 18 are most similar with score: 1.0\n",
      "Vertices 12 and 20 are most similar with score: 1.0\n",
      "Vertices 12 and 22 are most similar with score: 1.0\n",
      "Vertices 12 and 32 are most similar with score: 1.0\n",
      "Vertices 13 and 2 are most similar with score: 1.0\n",
      "Vertices 13 and 3 are most similar with score: 1.0\n",
      "Vertices 13 and 8 are most similar with score: 1.0\n",
      "Vertices 13 and 12 are most similar with score: 1.0\n",
      "Vertices 13 and 14 are most similar with score: 1.0\n",
      "Vertices 14 and 8 are most similar with score: 1.0\n",
      "Vertices 14 and 10 are most similar with score: 1.0\n",
      "Vertices 14 and 12 are most similar with score: 1.0\n",
      "Vertices 14 and 13 are most similar with score: 1.0\n",
      "Vertices 14 and 18 are most similar with score: 1.0\n",
      "Vertices 14 and 20 are most similar with score: 1.0\n",
      "Vertices 14 and 22 are most similar with score: 1.0\n",
      "Vertices 15 and 9 are most similar with score: 1.0\n",
      "Vertices 15 and 16 are most similar with score: 1.0\n",
      "Vertices 15 and 19 are most similar with score: 1.0\n",
      "Vertices 15 and 21 are most similar with score: 1.0\n",
      "Vertices 15 and 23 are most similar with score: 1.0\n",
      "Vertices 15 and 24 are most similar with score: 1.0\n",
      "Vertices 15 and 30 are most similar with score: 1.0\n",
      "Vertices 15 and 31 are most similar with score: 1.0\n",
      "Vertices 15 and 32 are most similar with score: 1.0\n",
      "Vertices 16 and 9 are most similar with score: 1.0\n",
      "Vertices 16 and 15 are most similar with score: 1.0\n",
      "Vertices 16 and 19 are most similar with score: 1.0\n",
      "Vertices 16 and 21 are most similar with score: 1.0\n",
      "Vertices 16 and 23 are most similar with score: 1.0\n",
      "Vertices 16 and 24 are most similar with score: 1.0\n",
      "Vertices 16 and 30 are most similar with score: 1.0\n",
      "Vertices 16 and 31 are most similar with score: 1.0\n",
      "Vertices 16 and 32 are most similar with score: 1.0\n",
      "Vertices 17 and 1 are most similar with score: 1.0\n",
      "Vertices 18 and 3 are most similar with score: 1.0\n",
      "Vertices 18 and 4 are most similar with score: 1.0\n",
      "Vertices 18 and 8 are most similar with score: 1.0\n",
      "Vertices 18 and 12 are most similar with score: 1.0\n",
      "Vertices 18 and 14 are most similar with score: 1.0\n",
      "Vertices 18 and 20 are most similar with score: 1.0\n",
      "Vertices 18 and 22 are most similar with score: 1.0\n",
      "Vertices 19 and 9 are most similar with score: 1.0\n",
      "Vertices 19 and 15 are most similar with score: 1.0\n",
      "Vertices 19 and 16 are most similar with score: 1.0\n",
      "Vertices 19 and 21 are most similar with score: 1.0\n",
      "Vertices 19 and 23 are most similar with score: 1.0\n",
      "Vertices 19 and 24 are most similar with score: 1.0\n",
      "Vertices 19 and 30 are most similar with score: 1.0\n",
      "Vertices 19 and 31 are most similar with score: 1.0\n",
      "Vertices 19 and 32 are most similar with score: 1.0\n",
      "Vertices 20 and 12 are most similar with score: 1.0\n",
      "Vertices 20 and 14 are most similar with score: 1.0\n",
      "Vertices 20 and 18 are most similar with score: 1.0\n",
      "Vertices 20 and 22 are most similar with score: 1.0\n",
      "Vertices 21 and 9 are most similar with score: 1.0\n",
      "Vertices 21 and 15 are most similar with score: 1.0\n",
      "Vertices 21 and 16 are most similar with score: 1.0\n",
      "Vertices 21 and 19 are most similar with score: 1.0\n",
      "Vertices 21 and 23 are most similar with score: 1.0\n",
      "Vertices 21 and 24 are most similar with score: 1.0\n",
      "Vertices 21 and 30 are most similar with score: 1.0\n",
      "Vertices 21 and 31 are most similar with score: 1.0\n",
      "Vertices 21 and 32 are most similar with score: 1.0\n",
      "Vertices 22 and 3 are most similar with score: 1.0\n",
      "Vertices 22 and 4 are most similar with score: 1.0\n",
      "Vertices 22 and 8 are most similar with score: 1.0\n",
      "Vertices 22 and 12 are most similar with score: 1.0\n",
      "Vertices 22 and 14 are most similar with score: 1.0\n",
      "Vertices 22 and 18 are most similar with score: 1.0\n",
      "Vertices 22 and 20 are most similar with score: 1.0\n",
      "Vertices 23 and 9 are most similar with score: 1.0\n",
      "Vertices 23 and 15 are most similar with score: 1.0\n",
      "Vertices 23 and 16 are most similar with score: 1.0\n",
      "Vertices 23 and 19 are most similar with score: 1.0\n",
      "Vertices 23 and 21 are most similar with score: 1.0\n",
      "Vertices 23 and 24 are most similar with score: 1.0\n",
      "Vertices 23 and 30 are most similar with score: 1.0\n",
      "Vertices 23 and 31 are most similar with score: 1.0\n",
      "Vertices 23 and 32 are most similar with score: 1.0\n",
      "Vertices 24 and 15 are most similar with score: 1.0\n",
      "Vertices 24 and 16 are most similar with score: 1.0\n",
      "Vertices 24 and 19 are most similar with score: 1.0\n",
      "Vertices 24 and 21 are most similar with score: 1.0\n",
      "Vertices 24 and 23 are most similar with score: 1.0\n",
      "Vertices 24 and 27 are most similar with score: 1.0\n",
      "Vertices 27 and 24 are most similar with score: 1.0\n",
      "Vertices 27 and 33 are most similar with score: 1.0\n",
      "Vertices 28 and 10 are most similar with score: 1.0\n",
      "Vertices 29 and 10 are most similar with score: 1.0\n",
      "Vertices 29 and 33 are most similar with score: 1.0\n",
      "Vertices 30 and 15 are most similar with score: 1.0\n",
      "Vertices 30 and 16 are most similar with score: 1.0\n",
      "Vertices 30 and 19 are most similar with score: 1.0\n",
      "Vertices 30 and 21 are most similar with score: 1.0\n",
      "Vertices 30 and 23 are most similar with score: 1.0\n",
      "Vertices 31 and 15 are most similar with score: 1.0\n",
      "Vertices 31 and 16 are most similar with score: 1.0\n",
      "Vertices 31 and 19 are most similar with score: 1.0\n",
      "Vertices 31 and 21 are most similar with score: 1.0\n",
      "Vertices 31 and 23 are most similar with score: 1.0\n",
      "Vertices 32 and 12 are most similar with score: 1.0\n",
      "Vertices 32 and 15 are most similar with score: 1.0\n",
      "Vertices 32 and 16 are most similar with score: 1.0\n",
      "Vertices 32 and 19 are most similar with score: 1.0\n",
      "Vertices 32 and 21 are most similar with score: 1.0\n",
      "Vertices 32 and 23 are most similar with score: 1.0\n",
      "Vertices 33 and 10 are most similar with score: 1.0\n",
      "Vertices 33 and 27 are most similar with score: 1.0\n",
      "Vertices 33 and 29 are most similar with score: 1.0\n"
     ]
    }
   ],
   "source": [
    "print_most_similar_overlap(j2o)"
   ]
  },
  {
   "cell_type": "markdown",
   "metadata": {
    "colab_type": "text",
    "id": "-h3mjWdnqkfQ"
   },
   "source": [
    "the overlap score captures all the same matches that Jaccrd did, but also includes those sets that are exact subsets"
   ]
  },
  {
   "cell_type": "markdown",
   "metadata": {
    "colab_type": "text",
    "id": "YxOVuFy6qmcF"
   },
   "source": [
    "----\n",
    "### Adjusting the vertex ID\n",
    "Let's adjust all the vertex IDs to be zero based.  We are going to do this by adding two new columns with the adjusted IDs\n"
   ]
  },
  {
   "cell_type": "code",
   "execution_count": 0,
   "metadata": {
    "colab": {},
    "colab_type": "code",
    "id": "IZ0ogVeuql4v"
   },
   "outputs": [],
   "source": [
    "gdf[\"src_0\"] = gdf[\"src\"] - 1\n",
    "gdf[\"dst_0\"] = gdf[\"dst\"] - 1"
   ]
  },
  {
   "cell_type": "code",
   "execution_count": 0,
   "metadata": {
    "colab": {},
    "colab_type": "code",
    "id": "HfvpXNwOqrAj"
   },
   "outputs": [],
   "source": [
    "# create a new Graph \n",
    "G2 = cugraph.Graph()\n",
    "G2.add_edge_list(gdf[\"src_0\"], gdf[\"dst_0\"])"
   ]
  },
  {
   "cell_type": "code",
   "execution_count": 29,
   "metadata": {
    "colab": {
     "base_uri": "https://localhost:8080/",
     "height": 34
    },
    "colab_type": "code",
    "id": "RuUvZT5oqs7L",
    "outputId": "0a805606-bedf-446d-f12f-ab9f2622dcf1"
   },
   "outputs": [
    {
     "data": {
      "text/plain": [
       "34"
      ]
     },
     "execution_count": 29,
     "metadata": {
      "tags": []
     },
     "output_type": "execute_result"
    }
   ],
   "source": [
    "# How many vertices are in the graph?  Remember that Graph is zero based while teh data start at vertex 1\n",
    "G2.number_of_vertices()"
   ]
  },
  {
   "cell_type": "markdown",
   "metadata": {
    "colab_type": "text",
    "id": "fwFvupfoqt_J"
   },
   "source": [
    "The number of vertices now matches what is in the test graph"
   ]
  },
  {
   "cell_type": "code",
   "execution_count": 0,
   "metadata": {
    "colab": {},
    "colab_type": "code",
    "id": "h6W47UTzqvYt"
   },
   "outputs": [],
   "source": [
    "# Call cugraph.nvJaccard \n",
    "df2 = cugraph.jaccard(G2)"
   ]
  },
  {
   "cell_type": "code",
   "execution_count": 31,
   "metadata": {
    "colab": {
     "base_uri": "https://localhost:8080/",
     "height": 50
    },
    "colab_type": "code",
    "id": "ATwE1Dk-qws3",
    "outputId": "be6f9de0-357c-4975-c1dd-8a97112bac9a"
   },
   "outputs": [
    {
     "name": "stdout",
     "output_type": "stream",
     "text": [
      "Vertices 32 and 33 are most similar with score: 0.5263158\n",
      "Vertices 33 and 32 are most similar with score: 0.5263158\n"
     ]
    }
   ],
   "source": [
    "print_most_similar_jaccard(df2)"
   ]
  },
  {
   "cell_type": "markdown",
   "metadata": {
    "colab_type": "text",
    "id": "C6aD2vDhqx4p"
   },
   "source": [
    "Adjusting the vertices back (e.g adding +1 to vertex IDs) yields 33 and 34 which matches the orginal results.\n",
    "For Jaccard, the fact that vertex IDs do not start of 0 is not an issue"
   ]
  },
  {
   "cell_type": "markdown",
   "metadata": {
    "colab_type": "text",
    "id": "AhQSE4M1ugqk"
   },
   "source": [
    "# Next Steps #\n",
    "\n",
    "For an overview of how you can access and work with your own datasets in Colab, check out [this guide](https://towardsdatascience.com/3-ways-to-load-csv-files-into-colab-7c14fcbdcb92).\n",
    "\n",
    "For more RAPIDS examples, check out our RAPIDS notebooks repos:\n",
    "1. https://github.com/rapidsai/notebooks\n",
    "2. https://github.com/rapidsai/notebooks-extended"
   ]
  },
  {
   "cell_type": "markdown",
   "metadata": {
    "colab_type": "text",
    "id": "RSPTecxFqzkt"
   },
   "source": [
    "___\n",
    "Copyright (c) 2019, NVIDIA CORPORATION.\n",
    "\n",
    "Licensed under the Apache License, Version 2.0 (the \"License\");  you may not use this file except in compliance with the License. You may obtain a copy of the License at http://www.apache.org/licenses/LICENSE-2.0\n",
    "\n",
    "Unless required by applicable law or agreed to in writing, software distributed under the License is distributed on an \"AS IS\" BASIS, WITHOUT WARRANTIES OR CONDITIONS OF ANY KIND, either express or implied. See the License for the specific language governing permissions and limitations under the License.\n",
    "___"
   ]
  }
 ],
 "metadata": {
  "accelerator": "GPU",
  "colab": {
   "collapsed_sections": [],
   "name": "Vertex-Similarity_Colab.ipynb",
   "provenance": [],
   "version": "0.3.2"
  },
  "kernelspec": {
   "display_name": "Python 3",
   "language": "python",
   "name": "python3"
  },
  "language_info": {
   "codemirror_mode": {
    "name": "ipython",
    "version": 3
   },
   "file_extension": ".py",
   "mimetype": "text/x-python",
   "name": "python",
   "nbconvert_exporter": "python",
   "pygments_lexer": "ipython3",
   "version": "3.7.2"
  }
 },
 "nbformat": 4,
 "nbformat_minor": 1
}
