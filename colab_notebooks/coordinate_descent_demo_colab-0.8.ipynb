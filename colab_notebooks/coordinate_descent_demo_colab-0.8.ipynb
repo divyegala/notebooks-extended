{
 "cells": [
  {
   "cell_type": "markdown",
   "metadata": {
    "colab_type": "text",
    "id": "Zsdl94MK50dG"
   },
   "source": [
    "# Coordinate descent\n",
    "\n",
    "CuML library can implement lasso and elastic net algorithms. The lasso model extends LinearRegression with L2 regularization and elastic net extends LinearRegression with a combination of L1 and L2 regularizations. \n",
    "\n",
    "We see tremendous speed up for datasets with large number of rows and less number of rows. Furthermore, the MSE value for the cuML implementation is much smaller than the scikit-learn implementation for very small datasets.\n"
   ]
  },
  {
   "cell_type": "markdown",
   "metadata": {
    "colab_type": "text",
    "id": "9ipi2A2f5-Rr"
   },
   "source": [
    "# Setup:\n",
    "1.  Install most recent Miniconda release compatible with Google Colab's Python install (3.6.7)\n",
    "2.  Install RAPIDS libraries\n",
    "3. Set necessary environment variables\n",
    "4. Copy RAPIDS .so files into current working directory, a workaround for conda/colab interactions\n",
    "    - may take a few minutes\n",
    "    - long output (output display removed)\n"
   ]
  },
  {
   "cell_type": "code",
   "execution_count": 0,
   "metadata": {
    "colab": {},
    "colab_type": "code",
    "id": "hbB5MDqo59s0"
   },
   "outputs": [],
   "source": [
    "!wget -nc https://github.com/rapidsai/notebooks-extended/raw/master/utils/rapids-colab.sh\n",
    "!bash rapids-colab.sh\n",
    "\n",
    "import sys, os\n",
    "\n",
    "sys.path.append('/usr/local/lib/python3.6/site-packages/')\n",
    "os.environ['NUMBAPRO_NVVM'] = '/usr/local/cuda/nvvm/lib64/libnvvm.so'\n",
    "os.environ['NUMBAPRO_LIBDEVICE'] = '/usr/local/cuda/nvvm/libdevice/'"
   ]
  },
  {
   "cell_type": "markdown",
   "metadata": {
    "colab_type": "text",
    "id": "8w9sJvhz2Yi_"
   },
   "source": [
    "## Data & Imports"
   ]
  },
  {
   "cell_type": "code",
   "execution_count": 2,
   "metadata": {
    "colab": {
     "base_uri": "https://localhost:8080/",
     "height": 306
    },
    "colab_type": "code",
    "id": "EYeoBBAq5yHC",
    "outputId": "953a757e-f581-4243-8b40-065138f935fc"
   },
   "outputs": [
    {
     "name": "stdout",
     "output_type": "stream",
     "text": [
      "--2019-07-29 08:41:45--  https://github.com/rapidsai/notebooks/raw/branch-0.8/cuml/data/mortgage.npy.gz\n",
      "Resolving github.com (github.com)... 140.82.118.3\n",
      "Connecting to github.com (github.com)|140.82.118.3|:443... connected.\n",
      "HTTP request sent, awaiting response... 302 Found\n",
      "Location: https://raw.githubusercontent.com/rapidsai/notebooks/branch-0.8/cuml/data/mortgage.npy.gz [following]\n",
      "--2019-07-29 08:41:45--  https://raw.githubusercontent.com/rapidsai/notebooks/branch-0.8/cuml/data/mortgage.npy.gz\n",
      "Resolving raw.githubusercontent.com (raw.githubusercontent.com)... 151.101.0.133, 151.101.64.133, 151.101.128.133, ...\n",
      "Connecting to raw.githubusercontent.com (raw.githubusercontent.com)|151.101.0.133|:443... connected.\n",
      "HTTP request sent, awaiting response... 200 OK\n",
      "Length: 6642646 (6.3M) [application/octet-stream]\n",
      "Saving to: ‘data/mortgage.npy.gz’\n",
      "\n",
      "data/mortgage.npy.g 100%[===================>]   6.33M  --.-KB/s    in 0.08s   \n",
      "\n",
      "2019-07-29 08:41:46 (78.8 MB/s) - ‘data/mortgage.npy.gz’ saved [6642646/6642646]\n",
      "\n"
     ]
    }
   ],
   "source": [
    "# Download data \n",
    "!mkdir data\n",
    "!wget https://github.com/rapidsai/notebooks/raw/branch-0.8/cuml/data/mortgage.npy.gz -O data/mortgage.npy.gz\n",
    "\n",
    "# Select a particular GPU to run the notebook  (if needed)\n",
    "# %env CUDA_VISIBLE_DEVICES=2\n",
    "# Import the required libraries\n",
    "\n",
    "# rapids\n",
    "import cudf, cuml, xgboost\n",
    "import dask_cudf, dask_cuml\n",
    "from cuml import Lasso as cuLasso\n",
    "from cuml.linear_model import ElasticNet as cuElasticNet\n",
    "# scikit\n",
    "from sklearn.linear_model import Lasso\n",
    "from sklearn.datasets import make_regression\n",
    "from sklearn.metrics import mean_squared_error\n",
    "from sklearn.linear_model import ElasticNet\n",
    "# general \n",
    "import numpy as np\n",
    "import pandas as pd"
   ]
  },
  {
   "cell_type": "markdown",
   "metadata": {
    "colab_type": "text",
    "id": "KaxPIKGg6QjG"
   },
   "source": [
    "## Helper Functions"
   ]
  },
  {
   "cell_type": "code",
   "execution_count": 0,
   "metadata": {
    "colab": {},
    "colab_type": "code",
    "id": "U788qOj86OQd"
   },
   "outputs": [],
   "source": [
    "# Check if the mortgage dataset is present and then extract the data from it, else just create a random dataset for regression \n",
    "import gzip\n",
    "def load_data(nrows, ncols, cached = 'data/mortgage.npy.gz'):\n",
    "    # Split the dataset in a 80:20 split\n",
    "    train_rows = int(nrows*0.8)\n",
    "    if os.path.exists(cached):\n",
    "        print('use mortgage data')\n",
    "\n",
    "        with gzip.open(cached) as f:\n",
    "            X = np.load(f)\n",
    "        # The 4th column is 'adj_remaining_months_to_maturity'\n",
    "        # used as the label\n",
    "        X = X[:,[i for i in range(X.shape[1]) if i!=4]]\n",
    "        y = X[:,4:5]\n",
    "        rindices = np.random.randint(0,X.shape[0]-1,nrows)\n",
    "        X = X[rindices,:ncols]\n",
    "        y = y[rindices]\n",
    "        df_y_train = pd.DataFrame({'fea%d'%i:y[0:train_rows,i] for i in range(y.shape[1])})\n",
    "        df_y_test = pd.DataFrame({'fea%d'%i:y[train_rows:,i] for i in range(y.shape[1])})\n",
    "    else:\n",
    "        print('use random data')\n",
    "        X,y = make_regression(n_samples=nrows,n_features=ncols,n_informative=ncols, random_state=0)\n",
    "        df_y_train = pd.DataFrame({'fea0':y[0:train_rows,]})\n",
    "        df_y_test = pd.DataFrame({'fea0':y[train_rows:,]})\n",
    "\n",
    "    df_X_train = pd.DataFrame({'fea%d'%i:X[0:train_rows,i] for i in range(X.shape[1])})\n",
    "    df_X_test = pd.DataFrame({'fea%d'%i:X[train_rows:,i] for i in range(X.shape[1])})\n",
    "\n",
    "    return df_X_train, df_X_test, df_y_train, df_y_test"
   ]
  },
  {
   "cell_type": "markdown",
   "metadata": {
    "colab_type": "text",
    "id": "IgpWUpv96VvW"
   },
   "source": [
    "## Obtain and convert the dataset"
   ]
  },
  {
   "cell_type": "code",
   "execution_count": 4,
   "metadata": {
    "colab": {
     "base_uri": "https://localhost:8080/",
     "height": 151
    },
    "colab_type": "code",
    "id": "xtvTpPNp6Z8S",
    "outputId": "c93d24e5-3aed-406a-f674-12f5ed44c9cd"
   },
   "outputs": [
    {
     "name": "stdout",
     "output_type": "stream",
     "text": [
      "use mortgage data\n",
      "training data (33, 500)\n",
      "training label (33, 1)\n",
      "testing data (9, 500)\n",
      "testing label (9, 1)\n",
      "label (9, 1)\n",
      "CPU times: user 4.81 s, sys: 1.83 s, total: 6.64 s\n",
      "Wall time: 6.72 s\n"
     ]
    }
   ],
   "source": [
    "%%time\n",
    "# nrows = number of samples\n",
    "# ncols = number of features of each sample \n",
    "nrows = 2*21\n",
    "ncols = 500\n",
    "\n",
    "# Split the dataset into training and testing sets, in the ratio of 80:20 respectively\n",
    "X_train, X_test, y_train, y_test = load_data(nrows,ncols)\n",
    "print('training data',X_train.shape)\n",
    "print('training label',y_train.shape)\n",
    "print('testing data',X_test.shape)\n",
    "print('testing label',y_test.shape)\n",
    "print('label',y_test.shape)"
   ]
  },
  {
   "cell_type": "code",
   "execution_count": 5,
   "metadata": {
    "colab": {
     "base_uri": "https://localhost:8080/",
     "height": 50
    },
    "colab_type": "code",
    "id": "xwIvmjYC6cl5",
    "outputId": "fc66163a-3ac8-430e-fb1b-0639d09fa551"
   },
   "outputs": [
    {
     "name": "stdout",
     "output_type": "stream",
     "text": [
      "CPU times: user 1.9 s, sys: 315 ms, total: 2.21 s\n",
      "Wall time: 2.84 s\n"
     ]
    }
   ],
   "source": [
    "%%time\n",
    "# Convert the pandas dataframe to cudf format\n",
    "X_cudf = cudf.DataFrame.from_pandas(X_train)\n",
    "X_cudf_test = cudf.DataFrame.from_pandas(X_test)\n",
    "y_cudf = y_train.values\n",
    "y_cudf = y_cudf[:,0]\n",
    "y_cudf = cudf.Series(y_cudf)"
   ]
  },
  {
   "cell_type": "markdown",
   "metadata": {
    "colab_type": "text",
    "id": "Opklce2k6hKx"
   },
   "source": [
    "## Define the model parameters"
   ]
  },
  {
   "cell_type": "code",
   "execution_count": 0,
   "metadata": {
    "colab": {},
    "colab_type": "code",
    "id": "2sgPSC116fA2"
   },
   "outputs": [],
   "source": [
    "# lr = learning rate\n",
    "# algo = algorithm used in the model\n",
    "lr = 0.001\n",
    "algo = 'cyclic'"
   ]
  },
  {
   "cell_type": "markdown",
   "metadata": {
    "colab_type": "text",
    "id": "2L04Imx66m8v"
   },
   "source": [
    "# Lasso\n",
    "\n",
    "The lasso model implemented in cuml allows the user to change the following parameter values:\n",
    "\n",
    "1. `alpha`: regularizing constant that is multiplied with L1 to control the extent of regularization. (default = 1)\n",
    "2. `normalize`: variable decides if the predictors in X will be normalized or not. (default = False)\n",
    "3. `fit_intercept`: if set to True the model tries to center the data. (default = True)\n",
    "4. `max_iter`: maximum number of iterations for training (fitting) the data to the model. (default = 1000)\n",
    "5. `tol`: the tolerance for optimization. (default = 1e-3)\n",
    "6. `algorithm`: the user can set the algorithm value as 'cyclic' or 'random'\n",
    "\n",
    "\n",
    "The model accepts only numpy arrays or cudf dataframes as the input. \n",
    "- In order to convert your dataset to cudf format please read the cudf [documentation](https://rapidsai.github.io/projects/cudf/en/latest/) \n",
    "- For additional information on the lasso model please refer to the [documentation](https://rapidsai.github.io/projects/cuml/en/latest/index.html)"
   ]
  },
  {
   "cell_type": "markdown",
   "metadata": {
    "colab_type": "text",
    "id": "Bo9x5UBb64mn"
   },
   "source": [
    "## Scikit-learn model for lasso "
   ]
  },
  {
   "cell_type": "code",
   "execution_count": 7,
   "metadata": {
    "colab": {
     "base_uri": "https://localhost:8080/",
     "height": 50
    },
    "colab_type": "code",
    "id": "LGC7bdJT6kcW",
    "outputId": "7b30497d-c5ba-43dc-e4f4-4669d452cb8d"
   },
   "outputs": [
    {
     "name": "stdout",
     "output_type": "stream",
     "text": [
      "CPU times: user 2.51 ms, sys: 4.9 ms, total: 7.41 ms\n",
      "Wall time: 19.5 ms\n"
     ]
    }
   ],
   "source": [
    "%%time\n",
    "# Use the sklearn lasso model to fit the training dataset \n",
    "skols = Lasso(alpha=np.array([lr]), fit_intercept = True, normalize = False, max_iter = 1000, selection=algo, tol=1e-10)\n",
    "skols.fit(X_train, y_train)"
   ]
  },
  {
   "cell_type": "code",
   "execution_count": 8,
   "metadata": {
    "colab": {
     "base_uri": "https://localhost:8080/",
     "height": 50
    },
    "colab_type": "code",
    "id": "KA59j_vL67x5",
    "outputId": "dd101f92-affc-4e85-a1ca-58643e699826"
   },
   "outputs": [
    {
     "name": "stdout",
     "output_type": "stream",
     "text": [
      "CPU times: user 6.73 ms, sys: 3.95 ms, total: 10.7 ms\n",
      "Wall time: 8.68 ms\n"
     ]
    }
   ],
   "source": [
    "%%time\n",
    "# Calculate the mean squared error for the sklearn lasso model on the testing dataset\n",
    "sk_predict = skols.predict(X_test)\n",
    "error_sk = mean_squared_error(y_test,sk_predict)"
   ]
  },
  {
   "cell_type": "markdown",
   "metadata": {
    "colab_type": "text",
    "id": "duB7T1iI7Bjw"
   },
   "source": [
    "## CuML model for lasso"
   ]
  },
  {
   "cell_type": "code",
   "execution_count": 9,
   "metadata": {
    "colab": {
     "base_uri": "https://localhost:8080/",
     "height": 50
    },
    "colab_type": "code",
    "id": "GDZ2tt_56_et",
    "outputId": "d4ed6774-bcca-4e3e-ca73-91c64900b2dc"
   },
   "outputs": [
    {
     "name": "stdout",
     "output_type": "stream",
     "text": [
      "CPU times: user 1.06 s, sys: 154 ms, total: 1.21 s\n",
      "Wall time: 1.15 s\n"
     ]
    }
   ],
   "source": [
    "%%time\n",
    "# Run the cuml linear regression model to fit the training dataset \n",
    "cuols = cuLasso(alpha=np.array([lr]), fit_intercept = True, normalize = False, max_iter = 1000, selection=algo, tol=1e-10)\n",
    "cuols.fit(X_cudf, y_cudf)"
   ]
  },
  {
   "cell_type": "code",
   "execution_count": 10,
   "metadata": {
    "colab": {
     "base_uri": "https://localhost:8080/",
     "height": 50
    },
    "colab_type": "code",
    "id": "0aXHl3zv7Ebt",
    "outputId": "59f7682a-2c3c-4432-8b21-496d1d4beacc"
   },
   "outputs": [
    {
     "name": "stdout",
     "output_type": "stream",
     "text": [
      "CPU times: user 119 ms, sys: 1.38 ms, total: 121 ms\n",
      "Wall time: 121 ms\n"
     ]
    }
   ],
   "source": [
    "%%time\n",
    "# Calculate the mean squared error of the testing dataset using the cuml linear regression model\n",
    "cu_predict = cuols.predict(X_cudf_test).to_array()\n",
    "error_cu = mean_squared_error(y_test,cu_predict)"
   ]
  },
  {
   "cell_type": "code",
   "execution_count": 11,
   "metadata": {
    "colab": {
     "base_uri": "https://localhost:8080/",
     "height": 84
    },
    "colab_type": "code",
    "id": "J2F4PkGn7G16",
    "outputId": "1854c6f0-6314-4ae1-e685-ee7598fea661"
   },
   "outputs": [
    {
     "name": "stdout",
     "output_type": "stream",
     "text": [
      "SKL MSE(y):\n",
      "1.4399155910280714e-05\n",
      "CUML MSE(y):\n",
      "1.4399175e-05\n"
     ]
    }
   ],
   "source": [
    "# Print the mean squared error of the sklearn and cuml model to compare the two\n",
    "print(\"SKL MSE(y):\")\n",
    "print(error_sk)\n",
    "print(\"CUML MSE(y):\")\n",
    "print(error_cu)"
   ]
  },
  {
   "cell_type": "markdown",
   "metadata": {
    "colab_type": "text",
    "id": "pUwWviae7Ixr"
   },
   "source": [
    "# Elastic Net\n",
    "\n",
    "The elastic net model implemented in cuml contains the same parameters as the lasso model. In addition to the variable values that can be altered in lasso, elastic net has another variable who's value can be changed\n",
    "\n",
    "\n",
    "- `l1_ratio`: decides the ratio of amount of L1 and L2 regularization that would be applied to the model\n",
    "  - When L1 ratio = 0\n",
    "    - the model will have only L2, regularization shall be applied to the model (default = 0.5)\n",
    "\n",
    "\n",
    "The model accepts only numpy arrays or cudf dataframes as the input. \n",
    "- In order to convert your dataset to cudf format please read the cudf [documentation](https://rapidsai.github.io/projects/cudf/en/latest/) \n",
    "- For additional information on the lasso model please refer to the [documentation](https://rapidsai.github.io/projects/cuml/en/latest/index.html)"
   ]
  },
  {
   "cell_type": "markdown",
   "metadata": {
    "colab_type": "text",
    "id": "ka34In8G7b88"
   },
   "source": [
    "## Scikit-learn model for elastic net"
   ]
  },
  {
   "cell_type": "code",
   "execution_count": 12,
   "metadata": {
    "colab": {
     "base_uri": "https://localhost:8080/",
     "height": 50
    },
    "colab_type": "code",
    "id": "X1F0KmDc7buy",
    "outputId": "60136398-fe57-4da6-ec63-b3dfb04ddade"
   },
   "outputs": [
    {
     "name": "stdout",
     "output_type": "stream",
     "text": [
      "CPU times: user 4.89 ms, sys: 1.23 ms, total: 6.12 ms\n",
      "Wall time: 11.1 ms\n"
     ]
    }
   ],
   "source": [
    "%%time\n",
    "# Use the sklearn linear regression model to fit the training dataset \n",
    "elastic_sk = ElasticNet(alpha=np.array([lr]), fit_intercept = True, normalize = False, max_iter = 1000, selection=algo, tol=1e-10)\n",
    "elastic_sk.fit(X_train, y_train)"
   ]
  },
  {
   "cell_type": "code",
   "execution_count": 13,
   "metadata": {
    "colab": {
     "base_uri": "https://localhost:8080/",
     "height": 50
    },
    "colab_type": "code",
    "id": "_z7wWg3o7Q2t",
    "outputId": "66d1316f-188c-4a59-b45b-4fd51ab4d54e"
   },
   "outputs": [
    {
     "name": "stdout",
     "output_type": "stream",
     "text": [
      "CPU times: user 2.36 ms, sys: 1.91 ms, total: 4.27 ms\n",
      "Wall time: 3.77 ms\n"
     ]
    }
   ],
   "source": [
    "%%time\n",
    "# Calculate the mean squared error of the sklearn linear regression model on the testing dataset\n",
    "sk_predict_elas = elastic_sk.predict(X_test)\n",
    "error_sk_elas = mean_squared_error(y_test,sk_predict_elas)"
   ]
  },
  {
   "cell_type": "markdown",
   "metadata": {
    "colab_type": "text",
    "id": "vUDc65Mq7lFg"
   },
   "source": [
    "## CuML model for elastic net"
   ]
  },
  {
   "cell_type": "code",
   "execution_count": 14,
   "metadata": {
    "colab": {
     "base_uri": "https://localhost:8080/",
     "height": 50
    },
    "colab_type": "code",
    "id": "L9BliOMv7jS-",
    "outputId": "d8362c0f-799f-46a8-8dbe-e5da49c510f4"
   },
   "outputs": [
    {
     "name": "stdout",
     "output_type": "stream",
     "text": [
      "CPU times: user 357 ms, sys: 93 ms, total: 450 ms\n",
      "Wall time: 379 ms\n"
     ]
    }
   ],
   "source": [
    "%%time\n",
    "# Run the cuml linear regression model to fit the training dataset \n",
    "elastic_cu = cuElasticNet(alpha=np.array([lr]), fit_intercept = True, normalize = False, max_iter = 1000, selection=algo, tol=1e-10)\n",
    "elastic_cu.fit(X_cudf, y_cudf)"
   ]
  },
  {
   "cell_type": "code",
   "execution_count": 15,
   "metadata": {
    "colab": {
     "base_uri": "https://localhost:8080/",
     "height": 50
    },
    "colab_type": "code",
    "id": "SHD3yWoj7o4P",
    "outputId": "aef22112-5c3e-4c47-8b94-37e77400aaf0"
   },
   "outputs": [
    {
     "name": "stdout",
     "output_type": "stream",
     "text": [
      "CPU times: user 126 ms, sys: 2.43 ms, total: 128 ms\n",
      "Wall time: 133 ms\n"
     ]
    }
   ],
   "source": [
    "%%time\n",
    "# Calculate the mean squared error of the testing dataset using the cuml linear regression model\n",
    "cu_predict_elas = elastic_cu.predict(X_cudf_test).to_array()\n",
    "error_cu_elas = mean_squared_error(y_test,cu_predict_elas)"
   ]
  },
  {
   "cell_type": "code",
   "execution_count": 16,
   "metadata": {
    "colab": {
     "base_uri": "https://localhost:8080/",
     "height": 84
    },
    "colab_type": "code",
    "id": "QId_kmGE7rrH",
    "outputId": "e2e618c9-5467-4074-8009-9ccc4ac044f6"
   },
   "outputs": [
    {
     "name": "stdout",
     "output_type": "stream",
     "text": [
      "SKL MSE(y):\n",
      "1.4254451740114062e-05\n",
      "CUML MSE(y):\n",
      "1.4254318e-05\n"
     ]
    }
   ],
   "source": [
    "# Print the mean squared error of the sklearn and cuml model to compare the two\n",
    "print(\"SKL MSE(y):\")\n",
    "print(error_sk_elas)\n",
    "print(\"CUML MSE(y):\")\n",
    "print(error_cu_elas)"
   ]
  },
  {
   "cell_type": "code",
   "execution_count": 0,
   "metadata": {
    "colab": {},
    "colab_type": "code",
    "id": "K7jLGfvP7v4R"
   },
   "outputs": [],
   "source": []
  }
 ],
 "metadata": {
  "accelerator": "GPU",
  "colab": {
   "name": "coordinate_descent_demo_colab-0.8.ipynb",
   "provenance": [],
   "version": "0.3.2"
  },
  "kernelspec": {
   "display_name": "Python 3",
   "language": "python",
   "name": "python3"
  },
  "language_info": {
   "codemirror_mode": {
    "name": "ipython",
    "version": 3
   },
   "file_extension": ".py",
   "mimetype": "text/x-python",
   "name": "python",
   "nbconvert_exporter": "python",
   "pygments_lexer": "ipython3",
   "version": "3.7.2"
  }
 },
 "nbformat": 4,
 "nbformat_minor": 1
}
